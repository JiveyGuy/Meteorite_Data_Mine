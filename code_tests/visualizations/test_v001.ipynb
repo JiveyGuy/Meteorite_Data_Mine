{
 "cells": [
  {
   "cell_type": "markdown",
   "metadata": {},
   "source": [
    "# Project V0.0.1\n",
    "By Jason Ivey, Ziad Arafat, Jacob Yoder, & Kevin Dhanapal\n",
    "\n",
    "Note it is best to vscode's inbuilt .venv for the the\n",
    "kernel"
   ]
  },
  {
   "cell_type": "code",
   "execution_count": 4,
   "metadata": {},
   "outputs": [],
   "source": [
    "# imports\n",
    "import pandas\n",
    "import pyvista\n",
    "import numpy\n",
    "import math\n",
    "from pyvista import examples"
   ]
  },
  {
   "cell_type": "markdown",
   "metadata": {},
   "source": [
    "Reading our data"
   ]
  },
  {
   "cell_type": "code",
   "execution_count": 7,
   "metadata": {},
   "outputs": [
    {
     "name": "stdout",
     "output_type": "stream",
     "text": [
      "<class 'pandas.core.frame.DataFrame'>\n",
      "RangeIndex: 45716 entries, 0 to 45715\n",
      "Data columns (total 10 columns):\n",
      " #   Column       Non-Null Count  Dtype  \n",
      "---  ------       --------------  -----  \n",
      " 0   name         45716 non-null  object \n",
      " 1   id           45716 non-null  int64  \n",
      " 2   nametype     45716 non-null  object \n",
      " 3   recclass     45716 non-null  object \n",
      " 4   mass (g)     45585 non-null  float64\n",
      " 5   fall         45716 non-null  object \n",
      " 6   year         45425 non-null  float64\n",
      " 7   reclat       38401 non-null  float64\n",
      " 8   reclong      38401 non-null  float64\n",
      " 9   GeoLocation  38401 non-null  object \n",
      "dtypes: float64(4), int64(1), object(5)\n",
      "memory usage: 3.5+ MB\n"
     ]
    }
   ],
   "source": [
    "# import ./data/meteorite_landings.csv\n",
    "# header is row 0\n",
    "data = pandas.read_csv('../../data/meteorite_landings.csv', header=0)\n",
    "data.info()"
   ]
  },
  {
   "cell_type": "markdown",
   "metadata": {},
   "source": [
    "PLotting earth"
   ]
  },
  {
   "cell_type": "code",
   "execution_count": 6,
   "metadata": {},
   "outputs": [
    {
     "ename": "FileNotFoundError",
     "evalue": "File (c:\\Users\\jivey\\devel\\Metorite_Data_Mine\\code_tests\\visualizations\\earth.jpg) not found",
     "output_type": "error",
     "traceback": [
      "\u001b[1;31m---------------------------------------------------------------------------\u001b[0m",
      "\u001b[1;31mFileNotFoundError\u001b[0m                         Traceback (most recent call last)",
      "\u001b[1;32mc:\\Users\\jivey\\devel\\Metorite_Data_Mine\\code_tests\\visualizations\\test_v001.ipynb Cell 6\u001b[0m line \u001b[0;36m9\n\u001b[0;32m      <a href='vscode-notebook-cell:/c%3A/Users/jivey/devel/Metorite_Data_Mine/code_tests/visualizations/test_v001.ipynb#W5sZmlsZQ%3D%3D?line=5'>6</a>\u001b[0m sphere\u001b[39m.\u001b[39mactive_t_coords[:, \u001b[39m0\u001b[39m] \u001b[39m=\u001b[39m \u001b[39m0.5\u001b[39m \u001b[39m+\u001b[39m numpy\u001b[39m.\u001b[39marctan2(\u001b[39m-\u001b[39msphere\u001b[39m.\u001b[39mpoints[:, \u001b[39m0\u001b[39m], sphere\u001b[39m.\u001b[39mpoints[:, \u001b[39m1\u001b[39m])\u001b[39m/\u001b[39m(\u001b[39m2\u001b[39m \u001b[39m*\u001b[39m math\u001b[39m.\u001b[39mpi)\n\u001b[0;32m      <a href='vscode-notebook-cell:/c%3A/Users/jivey/devel/Metorite_Data_Mine/code_tests/visualizations/test_v001.ipynb#W5sZmlsZQ%3D%3D?line=6'>7</a>\u001b[0m sphere\u001b[39m.\u001b[39mactive_t_coords[:, \u001b[39m1\u001b[39m] \u001b[39m=\u001b[39m \u001b[39m0.5\u001b[39m \u001b[39m+\u001b[39m numpy\u001b[39m.\u001b[39marcsin(sphere\u001b[39m.\u001b[39mpoints[:, \u001b[39m2\u001b[39m]) \u001b[39m/\u001b[39m math\u001b[39m.\u001b[39mpi\n\u001b[1;32m----> <a href='vscode-notebook-cell:/c%3A/Users/jivey/devel/Metorite_Data_Mine/code_tests/visualizations/test_v001.ipynb#W5sZmlsZQ%3D%3D?line=8'>9</a>\u001b[0m mars \u001b[39m=\u001b[39m pyvista\u001b[39m.\u001b[39;49mread_texture(\u001b[39m\"\u001b[39;49m\u001b[39mearth.jpg\u001b[39;49m\u001b[39m\"\u001b[39;49m)\n\u001b[0;32m     <a href='vscode-notebook-cell:/c%3A/Users/jivey/devel/Metorite_Data_Mine/code_tests/visualizations/test_v001.ipynb#W5sZmlsZQ%3D%3D?line=9'>10</a>\u001b[0m stars \u001b[39m=\u001b[39m examples\u001b[39m.\u001b[39mplanets\u001b[39m.\u001b[39mdownload_stars_sky_background(load\u001b[39m=\u001b[39m\u001b[39mFalse\u001b[39;00m)\n\u001b[0;32m     <a href='vscode-notebook-cell:/c%3A/Users/jivey/devel/Metorite_Data_Mine/code_tests/visualizations/test_v001.ipynb#W5sZmlsZQ%3D%3D?line=11'>12</a>\u001b[0m \u001b[39m# with stars\u001b[39;00m\n",
      "File \u001b[1;32mc:\\Users\\jivey\\devel\\Metorite_Data_Mine\\venv\\lib\\site-packages\\pyvista\\core\\utilities\\fileio.py:292\u001b[0m, in \u001b[0;36mread_texture\u001b[1;34m(filename, attrs, progress_bar)\u001b[0m\n\u001b[0;32m    288\u001b[0m filename \u001b[39m=\u001b[39m os\u001b[39m.\u001b[39mpath\u001b[39m.\u001b[39mabspath(os\u001b[39m.\u001b[39mpath\u001b[39m.\u001b[39mexpanduser(filename))\n\u001b[0;32m    289\u001b[0m \u001b[39mtry\u001b[39;00m:\n\u001b[0;32m    290\u001b[0m     \u001b[39m# initialize the reader using the extension to find it\u001b[39;00m\n\u001b[1;32m--> 292\u001b[0m     image \u001b[39m=\u001b[39m read(filename, attrs\u001b[39m=\u001b[39;49mattrs, progress_bar\u001b[39m=\u001b[39;49mprogress_bar)\n\u001b[0;32m    293\u001b[0m     \u001b[39mif\u001b[39;00m image\u001b[39m.\u001b[39mn_points \u001b[39m<\u001b[39m \u001b[39m2\u001b[39m:\n\u001b[0;32m    294\u001b[0m         \u001b[39mraise\u001b[39;00m \u001b[39mValueError\u001b[39;00m(\u001b[39m\"\u001b[39m\u001b[39mProblem reading the image with VTK.\u001b[39m\u001b[39m\"\u001b[39m)\n",
      "File \u001b[1;32mc:\\Users\\jivey\\devel\\Metorite_Data_Mine\\venv\\lib\\site-packages\\pyvista\\core\\utilities\\fileio.py:184\u001b[0m, in \u001b[0;36mread\u001b[1;34m(filename, attrs, force_ext, file_format, progress_bar)\u001b[0m\n\u001b[0;32m    182\u001b[0m filename \u001b[39m=\u001b[39m os\u001b[39m.\u001b[39mpath\u001b[39m.\u001b[39mabspath(os\u001b[39m.\u001b[39mpath\u001b[39m.\u001b[39mexpanduser(\u001b[39mstr\u001b[39m(filename)))\n\u001b[0;32m    183\u001b[0m \u001b[39mif\u001b[39;00m \u001b[39mnot\u001b[39;00m os\u001b[39m.\u001b[39mpath\u001b[39m.\u001b[39misfile(filename):\n\u001b[1;32m--> 184\u001b[0m     \u001b[39mraise\u001b[39;00m \u001b[39mFileNotFoundError\u001b[39;00m(\u001b[39mf\u001b[39m\u001b[39m'\u001b[39m\u001b[39mFile (\u001b[39m\u001b[39m{\u001b[39;00mfilename\u001b[39m}\u001b[39;00m\u001b[39m) not found\u001b[39m\u001b[39m'\u001b[39m)\n\u001b[0;32m    186\u001b[0m \u001b[39m# Read file using meshio.read if file_format is present\u001b[39;00m\n\u001b[0;32m    187\u001b[0m \u001b[39mif\u001b[39;00m file_format:\n",
      "\u001b[1;31mFileNotFoundError\u001b[0m: File (c:\\Users\\jivey\\devel\\Metorite_Data_Mine\\code_tests\\visualizations\\earth.jpg) not found"
     ]
    }
   ],
   "source": [
    "sphere = pyvista.Sphere(radius=1, theta_resolution=120, phi_resolution=120,\n",
    "                        start_theta=270.001, end_theta=270)\n",
    "sphere.active_t_coords = numpy.zeros((sphere.points.shape[0], 2))\n",
    "\n",
    "\n",
    "sphere.active_t_coords[:, 0] = 0.5 + numpy.arctan2(-sphere.points[:, 0], sphere.points[:, 1])/(2 * math.pi)\n",
    "sphere.active_t_coords[:, 1] = 0.5 + numpy.arcsin(sphere.points[:, 2]) / math.pi\n",
    "\n",
    "mars = pyvista.read_texture(\"earth.jpg\")\n",
    "stars = examples.planets.download_stars_sky_background(load=False)\n",
    "\n",
    "# with stars\n",
    "pl = pyvista.Plotter()\n",
    "pl.add_background_image(stars)\n",
    "pl.add_mesh(sphere, texture=mars, smooth_shading=False)\n",
    "pl.show()"
   ]
  },
  {
   "cell_type": "markdown",
   "metadata": {},
   "source": [
    "Trying to make 3d movie."
   ]
  },
  {
   "cell_type": "code",
   "execution_count": null,
   "metadata": {},
   "outputs": [
    {
     "data": {
      "application/vnd.jupyter.widget-view+json": {
       "model_id": "808cd5ffde0c4ff78aba61c5f7980535",
       "version_major": 2,
       "version_minor": 0
      },
      "text/plain": [
       "Widget(value=\"<iframe src='http://localhost:65443/index.html?ui=P_0x15a38b58150_2&reconnect=auto' style='width…"
      ]
     },
     "metadata": {},
     "output_type": "display_data"
    }
   ],
   "source": [
    "filename = \"sphere-shrinking.mp4\"\n",
    "\n",
    "mesh = pyvista.Sphere()\n",
    "mesh.cell_data[\"data\"] = numpy.random.random(mesh.n_cells)\n",
    "\n",
    "plotter = pyvista.Plotter()\n",
    "# Open a movie file\n",
    "plotter.open_movie(filename)\n",
    "\n",
    "# Add initial mesh\n",
    "plotter.add_mesh(mesh, scalars=\"data\", clim=[0, 1])\n",
    "# Add outline for shrinking reference\n",
    "plotter.add_mesh(mesh.outline_corners())\n",
    "\n",
    "plotter.show(auto_close=False)  # only necessary for an off-screen movie\n",
    "\n",
    "# Run through each frame\n",
    "plotter.write_frame()  # write initial data\n",
    "\n",
    "# Update scalars on each frame\n",
    "for i in range(100):\n",
    "    random_points = numpy.random.random(mesh.points.shape)\n",
    "    mesh.points = random_points * 0.01 + mesh.points * 0.99\n",
    "    mesh.points -= mesh.points.mean(0)\n",
    "    mesh.cell_data[\"data\"] = numpy.random.random(mesh.n_cells)\n",
    "    plotter.add_text(f\"Iteration: {i}\", name='time-label')\n",
    "    plotter.write_frame()  # Write this frame\n",
    "\n",
    "# Be sure to close the plotter when finished\n",
    "plotter.close()"
   ]
  }
 ],
 "metadata": {
  "kernelspec": {
   "display_name": ".venv",
   "language": "python",
   "name": "python3"
  },
  "language_info": {
   "codemirror_mode": {
    "name": "ipython",
    "version": 3
   },
   "file_extension": ".py",
   "mimetype": "text/x-python",
   "name": "python",
   "nbconvert_exporter": "python",
   "pygments_lexer": "ipython3",
   "version": "3.10.10"
  },
  "orig_nbformat": 4
 },
 "nbformat": 4,
 "nbformat_minor": 2
}
