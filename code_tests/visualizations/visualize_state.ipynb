{
 "cells": [
  {
   "cell_type": "code",
   "execution_count": null,
   "metadata": {},
   "outputs": [],
   "source": [
    "# given the following data format:\n",
    "#  lat, lon, count\n",
    "# add the counts for all the points within each US state\n",
    "# then create a viual where each state has the text number of \n",
    "# its total count\n",
    "\n",
    "import pandas as pd\n",
    "import numpy as np\n",
    "import matplotlib.pyplot as plt\n",
    "import matplotlib as mpl\n",
    "from shapely.geometry import MultiPoint, Point, Polygon\n",
    "import shapefile\n",
    "\n",
    "# read in the data\n",
    "data = pd.read_csv('../../data/USA_meteorite_data_binned_bins100.csv')\n",
    "\n",
    "# read in the state data\n"
   ]
  }
 ],
 "metadata": {
  "language_info": {
   "name": "python"
  }
 },
 "nbformat": 4,
 "nbformat_minor": 2
}
