{
 "cells": [
  {
   "cell_type": "markdown",
   "metadata": {},
   "source": [
    "# Project V0.0.1\n",
    "By Jason Ivey, Ziad Arafat, Jacob Yoder, & Kevin Dhanapal\n",
    "\n",
    "Note it is best to vscode's inbuilt .venv for the the\n",
    "kernel"
   ]
  },
  {
   "cell_type": "code",
   "execution_count": 1,
   "metadata": {},
   "outputs": [
    {
     "name": "stdout",
     "output_type": "stream",
     "text": [
      "Requirement already satisfied: pandas in c:\\users\\jivey\\documents\\github\\metorite_data_mine\\.venv\\lib\\site-packages (2.1.0)\n",
      "Requirement already satisfied: pyvista in c:\\users\\jivey\\documents\\github\\metorite_data_mine\\.venv\\lib\\site-packages (0.41.1)\n",
      "Requirement already satisfied: numpy>=1.23.2 in c:\\users\\jivey\\documents\\github\\metorite_data_mine\\.venv\\lib\\site-packages (from pandas) (1.25.2)\n",
      "Requirement already satisfied: python-dateutil>=2.8.2 in c:\\users\\jivey\\documents\\github\\metorite_data_mine\\.venv\\lib\\site-packages (from pandas) (2.8.2)\n",
      "Requirement already satisfied: pytz>=2020.1 in c:\\users\\jivey\\documents\\github\\metorite_data_mine\\.venv\\lib\\site-packages (from pandas) (2023.3)\n",
      "Requirement already satisfied: tzdata>=2022.1 in c:\\users\\jivey\\documents\\github\\metorite_data_mine\\.venv\\lib\\site-packages (from pandas) (2023.3)\n",
      "Requirement already satisfied: matplotlib>=3.0.1 in c:\\users\\jivey\\documents\\github\\metorite_data_mine\\.venv\\lib\\site-packages (from pyvista) (3.7.2)\n",
      "Requirement already satisfied: pillow in c:\\users\\jivey\\documents\\github\\metorite_data_mine\\.venv\\lib\\site-packages (from pyvista) (10.0.0)\n",
      "Requirement already satisfied: pooch in c:\\users\\jivey\\documents\\github\\metorite_data_mine\\.venv\\lib\\site-packages (from pyvista) (1.7.0)\n",
      "Requirement already satisfied: scooby>=0.5.1 in c:\\users\\jivey\\documents\\github\\metorite_data_mine\\.venv\\lib\\site-packages (from pyvista) (0.7.2)\n",
      "Requirement already satisfied: vtk in c:\\users\\jivey\\documents\\github\\metorite_data_mine\\.venv\\lib\\site-packages (from pyvista) (9.2.6)\n",
      "Requirement already satisfied: contourpy>=1.0.1 in c:\\users\\jivey\\documents\\github\\metorite_data_mine\\.venv\\lib\\site-packages (from matplotlib>=3.0.1->pyvista) (1.1.0)\n",
      "Requirement already satisfied: cycler>=0.10 in c:\\users\\jivey\\documents\\github\\metorite_data_mine\\.venv\\lib\\site-packages (from matplotlib>=3.0.1->pyvista) (0.11.0)\n",
      "Requirement already satisfied: fonttools>=4.22.0 in c:\\users\\jivey\\documents\\github\\metorite_data_mine\\.venv\\lib\\site-packages (from matplotlib>=3.0.1->pyvista) (4.42.1)\n",
      "Requirement already satisfied: kiwisolver>=1.0.1 in c:\\users\\jivey\\documents\\github\\metorite_data_mine\\.venv\\lib\\site-packages (from matplotlib>=3.0.1->pyvista) (1.4.5)\n",
      "Requirement already satisfied: packaging>=20.0 in c:\\users\\jivey\\documents\\github\\metorite_data_mine\\.venv\\lib\\site-packages (from matplotlib>=3.0.1->pyvista) (23.1)\n",
      "Requirement already satisfied: pyparsing<3.1,>=2.3.1 in c:\\users\\jivey\\documents\\github\\metorite_data_mine\\.venv\\lib\\site-packages (from matplotlib>=3.0.1->pyvista) (3.0.9)\n",
      "Requirement already satisfied: six>=1.5 in c:\\users\\jivey\\documents\\github\\metorite_data_mine\\.venv\\lib\\site-packages (from python-dateutil>=2.8.2->pandas) (1.16.0)\n",
      "Requirement already satisfied: platformdirs>=2.5.0 in c:\\users\\jivey\\documents\\github\\metorite_data_mine\\.venv\\lib\\site-packages (from pooch->pyvista) (3.10.0)\n",
      "Requirement already satisfied: requests>=2.19.0 in c:\\users\\jivey\\documents\\github\\metorite_data_mine\\.venv\\lib\\site-packages (from pooch->pyvista) (2.31.0)\n",
      "Requirement already satisfied: charset-normalizer<4,>=2 in c:\\users\\jivey\\documents\\github\\metorite_data_mine\\.venv\\lib\\site-packages (from requests>=2.19.0->pooch->pyvista) (3.2.0)\n",
      "Requirement already satisfied: idna<4,>=2.5 in c:\\users\\jivey\\documents\\github\\metorite_data_mine\\.venv\\lib\\site-packages (from requests>=2.19.0->pooch->pyvista) (3.4)\n",
      "Requirement already satisfied: urllib3<3,>=1.21.1 in c:\\users\\jivey\\documents\\github\\metorite_data_mine\\.venv\\lib\\site-packages (from requests>=2.19.0->pooch->pyvista) (2.0.4)\n",
      "Requirement already satisfied: certifi>=2017.4.17 in c:\\users\\jivey\\documents\\github\\metorite_data_mine\\.venv\\lib\\site-packages (from requests>=2.19.0->pooch->pyvista) (2023.7.22)\n"
     ]
    }
   ],
   "source": [
    "# only run if installs needed\n",
    "!pip install pandas pyvista"
   ]
  },
  {
   "cell_type": "code",
   "execution_count": 2,
   "metadata": {},
   "outputs": [],
   "source": [
    "# imports\n",
    "import pandas\n",
    "import pyvista\n",
    "import numpy\n",
    "import math\n",
    "from pyvista import examples"
   ]
  },
  {
   "cell_type": "markdown",
   "metadata": {},
   "source": [
    "Reading our data"
   ]
  },
  {
   "cell_type": "code",
   "execution_count": 3,
   "metadata": {},
   "outputs": [
    {
     "data": {
      "text/html": [
       "<div>\n",
       "<style scoped>\n",
       "    .dataframe tbody tr th:only-of-type {\n",
       "        vertical-align: middle;\n",
       "    }\n",
       "\n",
       "    .dataframe tbody tr th {\n",
       "        vertical-align: top;\n",
       "    }\n",
       "\n",
       "    .dataframe thead th {\n",
       "        text-align: right;\n",
       "    }\n",
       "</style>\n",
       "<table border=\"1\" class=\"dataframe\">\n",
       "  <thead>\n",
       "    <tr style=\"text-align: right;\">\n",
       "      <th></th>\n",
       "      <th>name</th>\n",
       "      <th>id</th>\n",
       "      <th>nametype</th>\n",
       "      <th>recclass</th>\n",
       "      <th>mass (g)</th>\n",
       "      <th>fall</th>\n",
       "      <th>year</th>\n",
       "      <th>reclat</th>\n",
       "      <th>reclong</th>\n",
       "      <th>GeoLocation</th>\n",
       "    </tr>\n",
       "  </thead>\n",
       "  <tbody>\n",
       "    <tr>\n",
       "      <th>0</th>\n",
       "      <td>Aachen</td>\n",
       "      <td>1</td>\n",
       "      <td>Valid</td>\n",
       "      <td>L5</td>\n",
       "      <td>21.0</td>\n",
       "      <td>Fell</td>\n",
       "      <td>1880.0</td>\n",
       "      <td>50.77500</td>\n",
       "      <td>6.08333</td>\n",
       "      <td>(50.775, 6.08333)</td>\n",
       "    </tr>\n",
       "    <tr>\n",
       "      <th>1</th>\n",
       "      <td>Aarhus</td>\n",
       "      <td>2</td>\n",
       "      <td>Valid</td>\n",
       "      <td>H6</td>\n",
       "      <td>720.0</td>\n",
       "      <td>Fell</td>\n",
       "      <td>1951.0</td>\n",
       "      <td>56.18333</td>\n",
       "      <td>10.23333</td>\n",
       "      <td>(56.18333, 10.23333)</td>\n",
       "    </tr>\n",
       "    <tr>\n",
       "      <th>2</th>\n",
       "      <td>Abee</td>\n",
       "      <td>6</td>\n",
       "      <td>Valid</td>\n",
       "      <td>EH4</td>\n",
       "      <td>107000.0</td>\n",
       "      <td>Fell</td>\n",
       "      <td>1952.0</td>\n",
       "      <td>54.21667</td>\n",
       "      <td>-113.00000</td>\n",
       "      <td>(54.21667, -113.0)</td>\n",
       "    </tr>\n",
       "    <tr>\n",
       "      <th>3</th>\n",
       "      <td>Acapulco</td>\n",
       "      <td>10</td>\n",
       "      <td>Valid</td>\n",
       "      <td>Acapulcoite</td>\n",
       "      <td>1914.0</td>\n",
       "      <td>Fell</td>\n",
       "      <td>1976.0</td>\n",
       "      <td>16.88333</td>\n",
       "      <td>-99.90000</td>\n",
       "      <td>(16.88333, -99.9)</td>\n",
       "    </tr>\n",
       "    <tr>\n",
       "      <th>4</th>\n",
       "      <td>Achiras</td>\n",
       "      <td>370</td>\n",
       "      <td>Valid</td>\n",
       "      <td>L6</td>\n",
       "      <td>780.0</td>\n",
       "      <td>Fell</td>\n",
       "      <td>1902.0</td>\n",
       "      <td>-33.16667</td>\n",
       "      <td>-64.95000</td>\n",
       "      <td>(-33.16667, -64.95)</td>\n",
       "    </tr>\n",
       "  </tbody>\n",
       "</table>\n",
       "</div>"
      ],
      "text/plain": [
       "       name   id nametype     recclass  mass (g)  fall    year    reclat  \\\n",
       "0    Aachen    1    Valid           L5      21.0  Fell  1880.0  50.77500   \n",
       "1    Aarhus    2    Valid           H6     720.0  Fell  1951.0  56.18333   \n",
       "2      Abee    6    Valid          EH4  107000.0  Fell  1952.0  54.21667   \n",
       "3  Acapulco   10    Valid  Acapulcoite    1914.0  Fell  1976.0  16.88333   \n",
       "4   Achiras  370    Valid           L6     780.0  Fell  1902.0 -33.16667   \n",
       "\n",
       "     reclong           GeoLocation  \n",
       "0    6.08333     (50.775, 6.08333)  \n",
       "1   10.23333  (56.18333, 10.23333)  \n",
       "2 -113.00000    (54.21667, -113.0)  \n",
       "3  -99.90000     (16.88333, -99.9)  \n",
       "4  -64.95000   (-33.16667, -64.95)  "
      ]
     },
     "execution_count": 3,
     "metadata": {},
     "output_type": "execute_result"
    }
   ],
   "source": [
    "# import ./data/meteorite_landings.csv\n",
    "# header is row 0\n",
    "data = pandas.read_csv('./data/meteorite_landings.csv', header=0)\n",
    "data.head()"
   ]
  },
  {
   "cell_type": "markdown",
   "metadata": {},
   "source": [
    "PLotting earth"
   ]
  },
  {
   "cell_type": "code",
   "execution_count": 4,
   "metadata": {},
   "outputs": [
    {
     "data": {
      "application/vnd.jupyter.widget-view+json": {
       "model_id": "2c9973bbadd7450683a9c35fa8ce3b07",
       "version_major": 2,
       "version_minor": 0
      },
      "text/plain": [
       "Widget(value=\"<iframe src='http://localhost:65443/index.html?ui=P_0x15a3931b810_0&reconnect=auto' style='width…"
      ]
     },
     "metadata": {},
     "output_type": "display_data"
    }
   ],
   "source": [
    "sphere = pyvista.Sphere(radius=1, theta_resolution=120, phi_resolution=120,\n",
    "                        start_theta=270.001, end_theta=270)\n",
    "sphere.active_t_coords = numpy.zeros((sphere.points.shape[0], 2))\n",
    "\n",
    "\n",
    "sphere.active_t_coords[:, 0] = 0.5 + numpy.arctan2(-sphere.points[:, 0], sphere.points[:, 1])/(2 * math.pi)\n",
    "sphere.active_t_coords[:, 1] = 0.5 + numpy.arcsin(sphere.points[:, 2]) / math.pi\n",
    "\n",
    "mars = pyvista.read_texture(\"earth.jpg\")\n",
    "stars = examples.planets.download_stars_sky_background(load=False)\n",
    "\n",
    "# with stars\n",
    "pl = pyvista.Plotter()\n",
    "pl.add_background_image(stars)\n",
    "pl.add_mesh(sphere, texture=mars, smooth_shading=False)\n",
    "pl.show()"
   ]
  },
  {
   "cell_type": "markdown",
   "metadata": {},
   "source": [
    "Trying to make 3d movie."
   ]
  },
  {
   "cell_type": "code",
   "execution_count": 7,
   "metadata": {},
   "outputs": [
    {
     "data": {
      "application/vnd.jupyter.widget-view+json": {
       "model_id": "808cd5ffde0c4ff78aba61c5f7980535",
       "version_major": 2,
       "version_minor": 0
      },
      "text/plain": [
       "Widget(value=\"<iframe src='http://localhost:65443/index.html?ui=P_0x15a38b58150_2&reconnect=auto' style='width…"
      ]
     },
     "metadata": {},
     "output_type": "display_data"
    }
   ],
   "source": [
    "filename = \"sphere-shrinking.mp4\"\n",
    "\n",
    "mesh = pyvista.Sphere()\n",
    "mesh.cell_data[\"data\"] = numpy.random.random(mesh.n_cells)\n",
    "\n",
    "plotter = pyvista.Plotter()\n",
    "# Open a movie file\n",
    "plotter.open_movie(filename)\n",
    "\n",
    "# Add initial mesh\n",
    "plotter.add_mesh(mesh, scalars=\"data\", clim=[0, 1])\n",
    "# Add outline for shrinking reference\n",
    "plotter.add_mesh(mesh.outline_corners())\n",
    "\n",
    "plotter.show(auto_close=False)  # only necessary for an off-screen movie\n",
    "\n",
    "# Run through each frame\n",
    "plotter.write_frame()  # write initial data\n",
    "\n",
    "# Update scalars on each frame\n",
    "for i in range(100):\n",
    "    random_points = numpy.random.random(mesh.points.shape)\n",
    "    mesh.points = random_points * 0.01 + mesh.points * 0.99\n",
    "    mesh.points -= mesh.points.mean(0)\n",
    "    mesh.cell_data[\"data\"] = numpy.random.random(mesh.n_cells)\n",
    "    plotter.add_text(f\"Iteration: {i}\", name='time-label')\n",
    "    plotter.write_frame()  # Write this frame\n",
    "\n",
    "# Be sure to close the plotter when finished\n",
    "plotter.close()"
   ]
  }
 ],
 "metadata": {
  "kernelspec": {
   "display_name": ".venv",
   "language": "python",
   "name": "python3"
  },
  "language_info": {
   "codemirror_mode": {
    "name": "ipython",
    "version": 3
   },
   "file_extension": ".py",
   "mimetype": "text/x-python",
   "name": "python",
   "nbconvert_exporter": "python",
   "pygments_lexer": "ipython3",
   "version": "3.11.4"
  },
  "orig_nbformat": 4
 },
 "nbformat": 4,
 "nbformat_minor": 2
}
